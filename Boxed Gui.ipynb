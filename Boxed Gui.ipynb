{
 "cells": [
  {
   "cell_type": "code",
   "id": "initial_id",
   "metadata": {
    "collapsed": true,
    "ExecuteTime": {
     "end_time": "2024-11-10T07:02:17.094440Z",
     "start_time": "2024-11-10T07:02:17.077496Z"
    }
   },
   "source": [
    "from tkinter import *\n",
    "from PIL import ImageTk, Image\n",
    "import threading\n",
    "import cv2 \n"
   ],
   "outputs": [],
   "execution_count": 46
  },
  {
   "metadata": {
    "ExecuteTime": {
     "end_time": "2024-11-10T07:02:17.267588Z",
     "start_time": "2024-11-10T07:02:17.253153Z"
    }
   },
   "cell_type": "code",
   "source": [
    "def hz_to_ms(hz):\n",
    "    if hz == 0:\n",
    "        raise ZeroDivisionError\n",
    "    return int(round(1000/hz))"
   ],
   "id": "2456ea10012575f9",
   "outputs": [],
   "execution_count": 47
  },
  {
   "metadata": {
    "ExecuteTime": {
     "end_time": "2024-11-10T07:28:27.251771Z",
     "start_time": "2024-11-10T07:25:07.878548Z"
    }
   },
   "cell_type": "code",
   "source": [
    "import tkinter as tk\n",
    "\n",
    "class Controller:\n",
    "    def __init__(self, root, box_1_hz, box_2_hz, stream_url = False):\n",
    "        # Window stuff\n",
    "        self.root = root\n",
    "        self.root.title(\"Controller\")\n",
    "        root.attributes('-fullscreen', True)\n",
    "        self.screen_width = self.root.winfo_screenwidth()\n",
    "        self.screen_height = self.root.winfo_screenheight()\n",
    "        \n",
    "        # This is information about what camera you are using and the size of the video feed.\n",
    "        if not stream_url:\n",
    "            self.cap = cv2.VideoCapture(0)\n",
    "        else:\n",
    "            self.cap = cv2.VideoCapture(stream_url)\n",
    "        self.cap.set(cv2.CAP_PROP_FRAME_WIDTH, self.screen_width // 3)\n",
    "        self.cap.set(cv2.CAP_PROP_FRAME_HEIGHT, self.screen_height // 3)\n",
    "        \n",
    "\n",
    "        # this sets up the GUI\n",
    "        self.canvas = tk.Canvas(self.root, width=self.screen_width, height=self.screen_height)\n",
    "        self.canvas.place(anchor='nw', x=0, y=0)\n",
    "        self.video = tk.Label(self.root)\n",
    "        self.video.place(anchor='center', relx=0.5, rely=0.5)\n",
    "        \n",
    "        self.down = self.create_flash_rect(self.screen_width // 2, self.screen_height // 2 + 450)\n",
    "        self.up = self.create_flash_rect(self.screen_width // 2, self.screen_height // 2 - 450)\n",
    "        # threading stuff\n",
    "        # Allows for python to run tasks in parallel, with the tasks being the flashing. daemon=true basically kills the thread when you close the window.\n",
    "        threading.Thread(target=self.flash, args=(self.up, hz_to_ms(box_1_hz)), daemon=True).start()\n",
    "        threading.Thread(target=self.flash, args=(self.down, hz_to_ms(box_2_hz)), daemon=True).start()\n",
    "        threading.Thread(target=self.open_camera).start()\n",
    "        \n",
    "    def run(self):\n",
    "        self.root.mainloop()\n",
    "\n",
    "    def open_camera(self):\n",
    "        # Capture the video frame by frame\n",
    "        if self.cap.isOpened():\n",
    "            _, frame = self.cap.read()\n",
    "            # Resize Image and convert Colors\n",
    "            frame = cv2.cvtColor(cv2.resize(frame, (self.screen_width//3, self.screen_height//3)), cv2.COLOR_BGR2RGBA)\n",
    "            # Capture the latest frame and transform to image\n",
    "            self.photo_image = ImageTk.PhotoImage(image=Image.fromarray(frame))\n",
    "            # Displaying camera feed onto the gui\n",
    "            self.video.configure(image=self.photo_image)\n",
    "        self.root.after(10, self.open_camera)\n",
    "    \n",
    "    def create_flash_rect(self, x, y, size=65):\n",
    "        # Create a flashing rectangle centered at (x, y).\n",
    "        rect = self.canvas.create_rectangle(\n",
    "            x - size, y - size, x + size, y + size, fill='black'\n",
    "        )\n",
    "        return rect\n",
    "\n",
    "    def flash(self, rect, interval):\n",
    "        # Toggle the fill color of a rectangle at a specified interval\n",
    "        current_fill = self.canvas.itemcget(rect, 'fill')\n",
    "        self.canvas.itemconfig(rect, fill='white' if current_fill == 'black' else 'black')\n",
    "        self.root.after(interval, lambda: self.flash(rect, interval))\n",
    "        \n",
    "\n",
    "# Initializes the Code\n",
    "window = tk.Tk()\n",
    "RC_Controller = Controller(window, 12, 15)\n",
    "RC_Controller.run()\n"
   ],
   "id": "b1786bb6c6064690",
   "outputs": [],
   "execution_count": 53
  },
  {
   "metadata": {
    "ExecuteTime": {
     "end_time": "2024-11-10T05:59:52.961058Z",
     "start_time": "2024-11-10T05:59:52.954069Z"
    }
   },
   "cell_type": "code",
   "source": "",
   "id": "1a1165c28a24289",
   "outputs": [],
   "execution_count": null
  },
  {
   "metadata": {},
   "cell_type": "code",
   "outputs": [],
   "execution_count": null,
   "source": "",
   "id": "bf75f34b96f48f0c"
  }
 ],
 "metadata": {
  "kernelspec": {
   "display_name": "Python 3",
   "language": "python",
   "name": "python3"
  },
  "language_info": {
   "codemirror_mode": {
    "name": "ipython",
    "version": 2
   },
   "file_extension": ".py",
   "mimetype": "text/x-python",
   "name": "python",
   "nbconvert_exporter": "python",
   "pygments_lexer": "ipython2",
   "version": "2.7.6"
  }
 },
 "nbformat": 4,
 "nbformat_minor": 5
}
