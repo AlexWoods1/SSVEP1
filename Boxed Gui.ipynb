{
 "cells": [
  {
   "cell_type": "code",
   "id": "initial_id",
   "metadata": {
    "collapsed": true,
    "ExecuteTime": {
     "end_time": "2024-11-23T18:34:47.692859Z",
     "start_time": "2024-11-23T18:34:47.683972Z"
    }
   },
   "source": [
    "from tkinter import *\n",
    "from PIL import ImageTk, Image\n",
    "import threading\n",
    "import cv2 \n",
    "import tkinter as tk\n",
    "\n",
    "\n",
    "# These are all necessary in order to run.\n",
    "# If the camera decides to give you crap tehn check if PIL is installed properly\n",
    "# If the problem persists then check if cv2 is installed correctly. you may have to install from the terminal. \n",
    "# The command should be pip install opencv-python\n"
   ],
   "outputs": [],
   "execution_count": 7
  },
  {
   "metadata": {
    "ExecuteTime": {
     "end_time": "2024-11-23T18:34:47.738886Z",
     "start_time": "2024-11-23T18:34:47.730749Z"
    }
   },
   "cell_type": "code",
   "source": [
    "def hz_to_ms(hz):\n",
    "    \"\"\"\n",
    "    converts Hz to Milliseconds\n",
    "    :param hz: hertz\n",
    "    :type hz: int or float\n",
    "    :return: milliseconds\n",
    "    :rtype: int\n",
    "    \"\"\"\n",
    "    if hz == 0:\n",
    "        raise ZeroDivisionError\n",
    "    return int(round(1000/hz))"
   ],
   "id": "2456ea10012575f9",
   "outputs": [],
   "execution_count": 8
  },
  {
   "metadata": {
    "ExecuteTime": {
     "end_time": "2024-11-23T18:45:54.941966Z",
     "start_time": "2024-11-23T18:44:40.934539Z"
    }
   },
   "cell_type": "code",
   "source": [
    "\n",
    "class Controller:\n",
    "    def __init__(self, root, box_1_hz, box_2_hz, stream_url = False):\n",
    "        \"\"\"\n",
    "        Creates the graphical user interface\n",
    "        :param root: the main window. Should be what you set tk.Tk() to be\n",
    "        :param box_1_hz: how fast to flash box_1\n",
    "        :param box_2_hz: how fast to flash box_2\n",
    "        :param stream_url: what camera feed to get.\n",
    "        \"\"\"\n",
    "        # Window stuff\n",
    "        self.root = root\n",
    "        self.root.title(\"Controller\")\n",
    "        root.attributes('-fullscreen', True)\n",
    "        self.screen_width = self.root.winfo_screenwidth()\n",
    "        self.screen_height = self.root.winfo_screenheight()\n",
    "        \n",
    "        # This is information about what camera you are using and the size of the video feed.\n",
    "        if not stream_url:\n",
    "            self.cap = cv2.VideoCapture(0)\n",
    "        else:\n",
    "            self.cap = cv2.VideoCapture(stream_url)\n",
    "        self.cap.set(cv2.CAP_PROP_FRAME_WIDTH, self.screen_width // 3)\n",
    "        self.cap.set(cv2.CAP_PROP_FRAME_HEIGHT, self.screen_height // 3)\n",
    "        \n",
    "\n",
    "        # this sets up the GUI\n",
    "        self.canvas = tk.Canvas(self.root, width=self.screen_width, height=self.screen_height)\n",
    "        self.canvas.place(anchor='nw', x=0, y=0)\n",
    "        self.video = tk.Label(self.root)\n",
    "        self.video.place(anchor='center', relx=0.5, rely=0.5)\n",
    "        \n",
    "        self.down = self.create_flash_rect(self.screen_width // 2, self.screen_height // 2 + 450)\n",
    "        self.up = self.create_flash_rect(self.screen_width // 2, self.screen_height // 2 - 450)\n",
    "        # threading stuff\n",
    "        # Allows for python to run tasks in parallel, with the tasks being the flashing. daemon=true basically kills the thread when you close the window.\n",
    "        threading.Thread(target=self.flash, args=(self.up, hz_to_ms(box_1_hz)), daemon=True).start()\n",
    "        threading.Thread(target=self.flash, args=(self.down, hz_to_ms(box_2_hz)), daemon=True).start()\n",
    "        threading.Thread(target=self.open_camera, daemon=True).start()\n",
    "        \n",
    "    def run(self):\n",
    "        \"\"\"\n",
    "        Runs the code\n",
    "        :return: \n",
    "        \"\"\"\n",
    "        self.root.mainloop()\n",
    "\n",
    "    def open_camera(self):\n",
    "        \"\"\"\n",
    "        Black magic to run the camera.\n",
    "        :return: \n",
    "        \"\"\"\n",
    "        # Checks if your camera is on.\n",
    "        if self.cap.isOpened():\n",
    "            # Capture the video frame by frame\n",
    "            _, frame = self.cap.read()\n",
    "            # Resize Image and convert Colors\n",
    "            frame = cv2.cvtColor(cv2.resize(frame, (self.screen_width//3, self.screen_height//3)), cv2.COLOR_BGR2RGBA)\n",
    "            # Capture the latest frame and transform to image\n",
    "            self.photo_image = ImageTk.PhotoImage(image=Image.fromarray(frame))\n",
    "            # Displaying camera feed onto the gui\n",
    "            self.video.configure(image=self.photo_image)\n",
    "        # Waits 10 ms before running this code again\n",
    "        self.root.after(10, self.open_camera)\n",
    "    \n",
    "    def create_flash_rect(self, x, y, size=65):\n",
    "        \"\"\"\n",
    "        Creates a rectangle with specified size at a location\n",
    "        :param x: x location\n",
    "        :param y: y location\n",
    "        :param size: the actual size is size * 2\n",
    "        :return: a black rectangle centered at x,y with width=2*size and height=*size\n",
    "        \"\"\"\n",
    "        # Create a flashing rectangle centered at (x, y).\n",
    "        rect = self.canvas.create_rectangle(\n",
    "            x - size, y - size, x + size, y + size, fill='black'\n",
    "        )\n",
    "        return rect\n",
    "\n",
    "    def flash(self, rect, interval:int):\n",
    "        \"\"\"\n",
    "        Makes an item flash at a specified interval. Straight Voodoo Magic.\n",
    "        :param rect: the item you want to flash\n",
    "        :type rect: tuple\n",
    "        :param interval: in milliseconds, how often to flash the item.\n",
    "        :type interval: int\n",
    "        :return:\n",
    "        \"\"\"\n",
    "        # Toggle the fill color of a rectangle at a specified interval\n",
    "        current_fill = self.canvas.itemcget(rect, 'fill')\n",
    "        self.canvas.itemconfig(rect, fill='white' if current_fill == 'black' else 'black')\n",
    "        self.root.after(interval, lambda: self.flash(rect, interval))\n",
    "        \n",
    "# Before running Connect to the Car. \n",
    "# Initializes the Code\n",
    "\n",
    "\n",
    "window = tk.Tk()\n",
    "RC_Controller = Controller(window, 12, 15, stream_url='http://192.168.4.1/Test')\n",
    "RC_Controller.run()\n",
    "\n",
    "\"\"\"\n",
    "___Notes___\n",
    "- If the GUI gives you crap about running, then try to check if the stream_url is working.\n",
    "- If the GUI gives you crap about stopping, try turning your camera off and on again.\n",
    "\"\"\""
   ],
   "id": "b1786bb6c6064690",
   "outputs": [
    {
     "ename": "KeyboardInterrupt",
     "evalue": "",
     "output_type": "error",
     "traceback": [
      "\u001B[1;31m---------------------------------------------------------------------------\u001B[0m",
      "\u001B[1;31mKeyboardInterrupt\u001B[0m                         Traceback (most recent call last)",
      "Cell \u001B[1;32mIn[11], line 66\u001B[0m\n\u001B[0;32m     61\u001B[0m \u001B[38;5;66;03m# Before running Connect to the Car. \u001B[39;00m\n\u001B[0;32m     62\u001B[0m \u001B[38;5;66;03m# Initializes the Code\u001B[39;00m\n\u001B[0;32m     65\u001B[0m window \u001B[38;5;241m=\u001B[39m tk\u001B[38;5;241m.\u001B[39mTk()\n\u001B[1;32m---> 66\u001B[0m RC_Controller \u001B[38;5;241m=\u001B[39m \u001B[43mController\u001B[49m\u001B[43m(\u001B[49m\u001B[43mwindow\u001B[49m\u001B[43m,\u001B[49m\u001B[43m \u001B[49m\u001B[38;5;241;43m12\u001B[39;49m\u001B[43m,\u001B[49m\u001B[43m \u001B[49m\u001B[38;5;241;43m15\u001B[39;49m\u001B[43m,\u001B[49m\u001B[43m \u001B[49m\u001B[43mstream_url\u001B[49m\u001B[38;5;241;43m=\u001B[39;49m\u001B[38;5;124;43m'\u001B[39;49m\u001B[38;5;124;43mhttp://192.168.4.1/Test\u001B[39;49m\u001B[38;5;124;43m'\u001B[39;49m\u001B[43m)\u001B[49m\n\u001B[0;32m     67\u001B[0m RC_Controller\u001B[38;5;241m.\u001B[39mrun()\n",
      "Cell \u001B[1;32mIn[11], line 14\u001B[0m, in \u001B[0;36mController.__init__\u001B[1;34m(self, root, box_1_hz, box_2_hz, stream_url)\u001B[0m\n\u001B[0;32m     12\u001B[0m     \u001B[38;5;28mself\u001B[39m\u001B[38;5;241m.\u001B[39mcap \u001B[38;5;241m=\u001B[39m cv2\u001B[38;5;241m.\u001B[39mVideoCapture(\u001B[38;5;241m0\u001B[39m)\n\u001B[0;32m     13\u001B[0m \u001B[38;5;28;01melse\u001B[39;00m:\n\u001B[1;32m---> 14\u001B[0m     \u001B[38;5;28mself\u001B[39m\u001B[38;5;241m.\u001B[39mcap \u001B[38;5;241m=\u001B[39m \u001B[43mcv2\u001B[49m\u001B[38;5;241;43m.\u001B[39;49m\u001B[43mVideoCapture\u001B[49m\u001B[43m(\u001B[49m\u001B[43mstream_url\u001B[49m\u001B[43m)\u001B[49m\n\u001B[0;32m     15\u001B[0m \u001B[38;5;28mself\u001B[39m\u001B[38;5;241m.\u001B[39mcap\u001B[38;5;241m.\u001B[39mset(cv2\u001B[38;5;241m.\u001B[39mCAP_PROP_FRAME_WIDTH, \u001B[38;5;28mself\u001B[39m\u001B[38;5;241m.\u001B[39mscreen_width \u001B[38;5;241m/\u001B[39m\u001B[38;5;241m/\u001B[39m \u001B[38;5;241m3\u001B[39m)\n\u001B[0;32m     16\u001B[0m \u001B[38;5;28mself\u001B[39m\u001B[38;5;241m.\u001B[39mcap\u001B[38;5;241m.\u001B[39mset(cv2\u001B[38;5;241m.\u001B[39mCAP_PROP_FRAME_HEIGHT, \u001B[38;5;28mself\u001B[39m\u001B[38;5;241m.\u001B[39mscreen_height \u001B[38;5;241m/\u001B[39m\u001B[38;5;241m/\u001B[39m \u001B[38;5;241m3\u001B[39m)\n",
      "\u001B[1;31mKeyboardInterrupt\u001B[0m: "
     ]
    }
   ],
   "execution_count": 11
  },
  {
   "metadata": {
    "ExecuteTime": {
     "end_time": "2024-11-23T18:35:03.860732Z",
     "start_time": "2024-11-23T18:35:03.848424Z"
    }
   },
   "cell_type": "code",
   "source": "",
   "id": "1a1165c28a24289",
   "outputs": [],
   "execution_count": null
  },
  {
   "metadata": {
    "ExecuteTime": {
     "end_time": "2024-11-23T18:35:03.923494Z",
     "start_time": "2024-11-23T18:35:03.910916Z"
    }
   },
   "cell_type": "code",
   "source": "",
   "id": "bf75f34b96f48f0c",
   "outputs": [],
   "execution_count": null
  }
 ],
 "metadata": {
  "kernelspec": {
   "display_name": "Python 3",
   "language": "python",
   "name": "python3"
  },
  "language_info": {
   "codemirror_mode": {
    "name": "ipython",
    "version": 2
   },
   "file_extension": ".py",
   "mimetype": "text/x-python",
   "name": "python",
   "nbconvert_exporter": "python",
   "pygments_lexer": "ipython2",
   "version": "2.7.6"
  }
 },
 "nbformat": 4,
 "nbformat_minor": 5
}
