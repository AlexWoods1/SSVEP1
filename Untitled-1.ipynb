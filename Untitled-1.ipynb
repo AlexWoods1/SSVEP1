{
 "cells": [
  {
   "cell_type": "code",
   "execution_count": 1,
   "metadata": {},
   "outputs": [
    {
     "name": "stdout",
     "output_type": "stream",
     "text": [
      "hi\n"
     ]
    }
   ],
   "source": [
    "print('hi')"
   ]
  },
  {
   "cell_type": "code",
   "execution_count": 2,
   "metadata": {},
   "outputs": [
    {
     "name": "stdout",
     "output_type": "stream",
     "text": [
      "Requirement already satisfied: pylsl in c:\\users\\triton neurotech\\appdata\\local\\programs\\python\\python313\\lib\\site-packages (1.17.6)\n",
      "Requirement already satisfied: numpy<3,>=1.21 in c:\\users\\triton neurotech\\appdata\\local\\programs\\python\\python313\\lib\\site-packages (from pylsl) (2.2.1)\n",
      "Note: you may need to restart the kernel to use updated packages.\n"
     ]
    },
    {
     "name": "stderr",
     "output_type": "stream",
     "text": [
      "\n",
      "[notice] A new release of pip is available: 24.3.1 -> 25.0.1\n",
      "[notice] To update, run: python.exe -m pip install --upgrade pip\n"
     ]
    },
    {
     "name": "stdout",
     "output_type": "stream",
     "text": [
      "Requirement already satisfied: pandas in c:\\users\\triton neurotech\\appdata\\local\\programs\\python\\python313\\lib\\site-packages (2.2.3)\n",
      "Requirement already satisfied: numpy>=1.26.0 in c:\\users\\triton neurotech\\appdata\\local\\programs\\python\\python313\\lib\\site-packages (from pandas) (2.2.1)\n",
      "Requirement already satisfied: python-dateutil>=2.8.2 in c:\\users\\triton neurotech\\appdata\\roaming\\python\\python313\\site-packages (from pandas) (2.9.0.post0)\n",
      "Requirement already satisfied: pytz>=2020.1 in c:\\users\\triton neurotech\\appdata\\local\\programs\\python\\python313\\lib\\site-packages (from pandas) (2024.2)\n",
      "Requirement already satisfied: tzdata>=2022.7 in c:\\users\\triton neurotech\\appdata\\local\\programs\\python\\python313\\lib\\site-packages (from pandas) (2024.2)\n",
      "Requirement already satisfied: six>=1.5 in c:\\users\\triton neurotech\\appdata\\roaming\\python\\python313\\site-packages (from python-dateutil>=2.8.2->pandas) (1.17.0)\n",
      "Note: you may need to restart the kernel to use updated packages.\n"
     ]
    },
    {
     "name": "stderr",
     "output_type": "stream",
     "text": [
      "\n",
      "[notice] A new release of pip is available: 24.3.1 -> 25.0.1\n",
      "[notice] To update, run: python.exe -m pip install --upgrade pip\n"
     ]
    }
   ],
   "source": [
    "%pip install pylsl\n",
    "%pip install pandas\n"
   ]
  },
  {
   "cell_type": "code",
   "execution_count": 3,
   "metadata": {},
   "outputs": [
    {
     "name": "stdout",
     "output_type": "stream",
     "text": [
      "Requirement already satisfied: pylsl in c:\\users\\triton neurotech\\appdata\\local\\programs\\python\\python313\\lib\\site-packages (1.17.6)\n",
      "Requirement already satisfied: numpy<3,>=1.21 in c:\\users\\triton neurotech\\appdata\\local\\programs\\python\\python313\\lib\\site-packages (from pylsl) (2.2.1)\n",
      "Note: you may need to restart the kernel to use updated packages.\n"
     ]
    },
    {
     "name": "stderr",
     "output_type": "stream",
     "text": [
      "\n",
      "[notice] A new release of pip is available: 24.3.1 -> 25.0.1\n",
      "[notice] To update, run: python.exe -m pip install --upgrade pip\n"
     ]
    }
   ],
   "source": [
    "%pip install pylsl --upgrade"
   ]
  },
  {
   "cell_type": "code",
   "execution_count": 4,
   "metadata": {},
   "outputs": [],
   "source": [
    "import pylsl "
   ]
  },
  {
   "cell_type": "code",
   "execution_count": null,
   "metadata": {},
   "outputs": [],
   "source": []
  },
  {
   "cell_type": "code",
   "execution_count": 5,
   "metadata": {},
   "outputs": [],
   "source": [
    "from pylsl import StreamInfo, StreamInlet\n",
    "import pandas as pd\n",
    "import time"
   ]
  },
  {
   "cell_type": "code",
   "execution_count": 6,
   "metadata": {},
   "outputs": [],
   "source": [
    "from pylsl import resolve_streams"
   ]
  },
  {
   "cell_type": "markdown",
   "metadata": {},
   "source": [
    "to start stream, open unicorn lsl, connect to headset, start stream, run code"
   ]
  },
  {
   "cell_type": "code",
   "execution_count": 7,
   "metadata": {},
   "outputs": [
    {
     "ename": "IndexError",
     "evalue": "list index out of range",
     "output_type": "error",
     "traceback": [
      "\u001b[1;31m---------------------------------------------------------------------------\u001b[0m",
      "\u001b[1;31mIndexError\u001b[0m                                Traceback (most recent call last)",
      "Cell \u001b[1;32mIn[7], line 21\u001b[0m\n\u001b[0;32m     18\u001b[0m i \u001b[38;5;241m=\u001b[39m \u001b[38;5;241m0\u001b[39m\n\u001b[0;32m     19\u001b[0m \u001b[38;5;28;01mfor\u001b[39;00m key \u001b[38;5;129;01min\u001b[39;00m data_dict\u001b[38;5;241m.\u001b[39mkeys():\n\u001b[0;32m     20\u001b[0m    \u001b[38;5;66;03m#print(data_dict[key])\u001b[39;00m\n\u001b[1;32m---> 21\u001b[0m    data_dict[key]\u001b[38;5;241m.\u001b[39mappend(\u001b[43mall_data\u001b[49m\u001b[43m[\u001b[49m\u001b[43mi\u001b[49m\u001b[43m]\u001b[49m)\n\u001b[0;32m     22\u001b[0m    i \u001b[38;5;241m=\u001b[39m i \u001b[38;5;241m+\u001b[39m \u001b[38;5;241m1\u001b[39m\n\u001b[0;32m     24\u001b[0m \u001b[38;5;66;03m# data is collected at 250 Hz. Let's stop data collection after 60 seconds. Meaning we stop when we collected 250*60 samples.\u001b[39;00m\n",
      "\u001b[1;31mIndexError\u001b[0m: list index out of range"
     ]
    }
   ],
   "source": [
    "# initialize the streaming layer\n",
    "finished = False\n",
    "streams = resolve_streams()\n",
    "inlet = StreamInlet(streams[0])\n",
    "\n",
    "# initialize the colomns of your data and your dictionary to capture the data.\n",
    "columns=['Time','FZ', 'C3', 'CZ', 'C4', 'PZ', 'PO7', 'OZ', 'PO8','AccX','AccY','AccZ',\n",
    "'Gyro1','Gyro2','Gyro3', 'Battery','Counter','Validation']\n",
    "data_dict = dict((k, []) for k in columns)\n",
    "\n",
    "while not finished:\n",
    "   # get the streamed data. Columns of sample are equal to the columns variable, only the first element being timestamp\n",
    "   # concatenate timestamp and data in 1 list\n",
    "   data, timestamp = inlet.pull_sample()\n",
    "   all_data = [timestamp] + data\n",
    "   \n",
    "   # updating data dictionary with newly transmitted samples   \n",
    "   i = 0\n",
    "   for key in data_dict.keys():\n",
    "      #print(data_dict[key])\n",
    "      data_dict[key].append(all_data[i])\n",
    "      i = i + 1\n",
    "   \n",
    "   # data is collected at 250 Hz. Let's stop data collection after 60 seconds. Meaning we stop when we collected 250*60 samples.\n",
    "   if len(data_dict['Time']) >= 250*10:\n",
    "      finished = True\n",
    "\n",
    "# lastly, we can save our data to a CSV format.\n",
    "data_df = pd.DataFrame.from_dict(data_dict)\n",
    "new_data_df = data_df.drop(['PO8','AccX','AccY','AccZ','FZ', 'C3', 'CZ', 'C4', 'PZ', 'PO7',\n",
    "'Gyro1','Gyro2','Gyro3', 'Battery'], axis=1)\n",
    "new_data_df.to_csv('EEGdata.csv', index = False)"
   ]
  },
  {
   "cell_type": "code",
   "execution_count": null,
   "metadata": {},
   "outputs": [
    {
     "ename": "NameError",
     "evalue": "name 'inlet' is not defined",
     "output_type": "error",
     "traceback": [
      "\u001b[1;31m---------------------------------------------------------------------------\u001b[0m",
      "\u001b[1;31mNameError\u001b[0m                                 Traceback (most recent call last)",
      "Cell \u001b[1;32mIn[1], line 1\u001b[0m\n\u001b[1;32m----> 1\u001b[0m \u001b[43minlet\u001b[49m\n",
      "\u001b[1;31mNameError\u001b[0m: name 'inlet' is not defined"
     ]
    }
   ],
   "source": [
    "inlet"
   ]
  },
  {
   "cell_type": "code",
   "execution_count": null,
   "metadata": {},
   "outputs": [],
   "source": [
    "#updated time stopping\n",
    "\n",
    "# initialize the streaming layer\n",
    "finished = False\n",
    "streams = resolve_streams()\n",
    "inlet = StreamInlet(streams[0])\n",
    "\n",
    "# initialize the colomns of your data and your dictionary to capture the data.\n",
    "columns=['Time','FZ', 'C3', 'CZ', 'C4', 'PZ', 'PO7', 'OZ', 'PO8','AccX','AccY','AccZ',\n",
    "'Gyro1','Gyro2','Gyro3', 'Battery','Counter','Validation']\n",
    "data_dict = dict((k, []) for k in columns)\n",
    "\n",
    "\n",
    "# Capture the start time when the collection begins\n",
    "start_time = time.time()\n",
    "\n",
    "while not finished:\n",
    "    # get the streamed data. Columns of sample are equal to the columns variable, only the first element being timestamp\n",
    "    # concatenate timestamp and data in 1 list\n",
    "    data, timestamp = inlet.pull_sample()\n",
    "    all_data = [timestamp] + data\n",
    "    \n",
    "    # update data dictionary with newly transmitted samples   \n",
    "    i = 0\n",
    "    for key in data_dict.keys():\n",
    "        data_dict[key].append(all_data[i])\n",
    "        i += 1\n",
    "    \n",
    "    # Check elapsed time\n",
    "    elapsed_time = time.time() - start_time\n",
    "    \n",
    "    # Stop data collection after 60 seconds (if elapsed_time >= 60)\n",
    "    if elapsed_time >= 15:\n",
    "        finished = True\n",
    "\n",
    "# Save the collected data to a CSV format\n",
    "data_df = pd.DataFrame.from_dict(data_dict)\n",
    "new_data_df = data_df.drop(['PO8','AccX','AccY','AccZ','FZ', 'C3', 'CZ', 'C4', 'PZ', 'PO7',\n",
    "'Gyro1','Gyro2','Gyro3', 'Battery'], axis=1)\n",
    "new_data_df.to_csv('EEGdata.csv', index=False)\n"
   ]
  },
  {
   "cell_type": "markdown",
   "metadata": {},
   "source": []
  },
  {
   "cell_type": "code",
   "execution_count": null,
   "metadata": {},
   "outputs": [],
   "source": [
    "new_data_df = data_df.drop(['PO8','AccX','AccY','AccZ','FZ', 'C3', 'CZ', 'C4', 'PZ', 'PO7',\n",
    "'Gyro1','Gyro2','Gyro3', 'Battery'], axis=1)"
   ]
  },
  {
   "cell_type": "code",
   "execution_count": null,
   "metadata": {},
   "outputs": [
    {
     "data": {
      "text/plain": [
       "397.9307599903014"
      ]
     },
     "execution_count": 8,
     "metadata": {},
     "output_type": "execute_result"
    }
   ],
   "source": [
    "1/ (4511.029209 - 4511.026696)"
   ]
  },
  {
   "cell_type": "code",
   "execution_count": null,
   "metadata": {},
   "outputs": [
    {
     "data": {
      "text/html": [
       "<div>\n",
       "<style scoped>\n",
       "    .dataframe tbody tr th:only-of-type {\n",
       "        vertical-align: middle;\n",
       "    }\n",
       "\n",
       "    .dataframe tbody tr th {\n",
       "        vertical-align: top;\n",
       "    }\n",
       "\n",
       "    .dataframe thead th {\n",
       "        text-align: right;\n",
       "    }\n",
       "</style>\n",
       "<table border=\"1\" class=\"dataframe\">\n",
       "  <thead>\n",
       "    <tr style=\"text-align: right;\">\n",
       "      <th></th>\n",
       "      <th>Time</th>\n",
       "      <th>OZ</th>\n",
       "      <th>Counter</th>\n",
       "      <th>Validation</th>\n",
       "    </tr>\n",
       "  </thead>\n",
       "  <tbody>\n",
       "    <tr>\n",
       "      <th>0</th>\n",
       "      <td>8389.008756</td>\n",
       "      <td>175570.640625</td>\n",
       "      <td>5203.0</td>\n",
       "      <td>1.0</td>\n",
       "    </tr>\n",
       "    <tr>\n",
       "      <th>1</th>\n",
       "      <td>8389.037479</td>\n",
       "      <td>175581.359375</td>\n",
       "      <td>5204.0</td>\n",
       "      <td>1.0</td>\n",
       "    </tr>\n",
       "    <tr>\n",
       "      <th>2</th>\n",
       "      <td>8389.041275</td>\n",
       "      <td>175553.562500</td>\n",
       "      <td>5205.0</td>\n",
       "      <td>1.0</td>\n",
       "    </tr>\n",
       "    <tr>\n",
       "      <th>3</th>\n",
       "      <td>8389.048802</td>\n",
       "      <td>175540.328125</td>\n",
       "      <td>5206.0</td>\n",
       "      <td>1.0</td>\n",
       "    </tr>\n",
       "    <tr>\n",
       "      <th>4</th>\n",
       "      <td>8389.051276</td>\n",
       "      <td>175563.031250</td>\n",
       "      <td>5207.0</td>\n",
       "      <td>1.0</td>\n",
       "    </tr>\n",
       "    <tr>\n",
       "      <th>...</th>\n",
       "      <td>...</td>\n",
       "      <td>...</td>\n",
       "      <td>...</td>\n",
       "      <td>...</td>\n",
       "    </tr>\n",
       "    <tr>\n",
       "      <th>3756</th>\n",
       "      <td>8403.962585</td>\n",
       "      <td>175145.859375</td>\n",
       "      <td>8959.0</td>\n",
       "      <td>1.0</td>\n",
       "    </tr>\n",
       "    <tr>\n",
       "      <th>3757</th>\n",
       "      <td>8403.966911</td>\n",
       "      <td>175172.328125</td>\n",
       "      <td>8960.0</td>\n",
       "      <td>1.0</td>\n",
       "    </tr>\n",
       "    <tr>\n",
       "      <th>3758</th>\n",
       "      <td>8403.966917</td>\n",
       "      <td>175179.484375</td>\n",
       "      <td>8961.0</td>\n",
       "      <td>1.0</td>\n",
       "    </tr>\n",
       "    <tr>\n",
       "      <th>3759</th>\n",
       "      <td>8403.976313</td>\n",
       "      <td>175148.718750</td>\n",
       "      <td>8962.0</td>\n",
       "      <td>1.0</td>\n",
       "    </tr>\n",
       "    <tr>\n",
       "      <th>3760</th>\n",
       "      <td>8403.983160</td>\n",
       "      <td>175134.062500</td>\n",
       "      <td>8963.0</td>\n",
       "      <td>1.0</td>\n",
       "    </tr>\n",
       "  </tbody>\n",
       "</table>\n",
       "<p>3761 rows × 4 columns</p>\n",
       "</div>"
      ],
      "text/plain": [
       "             Time             OZ  Counter  Validation\n",
       "0     8389.008756  175570.640625   5203.0         1.0\n",
       "1     8389.037479  175581.359375   5204.0         1.0\n",
       "2     8389.041275  175553.562500   5205.0         1.0\n",
       "3     8389.048802  175540.328125   5206.0         1.0\n",
       "4     8389.051276  175563.031250   5207.0         1.0\n",
       "...           ...            ...      ...         ...\n",
       "3756  8403.962585  175145.859375   8959.0         1.0\n",
       "3757  8403.966911  175172.328125   8960.0         1.0\n",
       "3758  8403.966917  175179.484375   8961.0         1.0\n",
       "3759  8403.976313  175148.718750   8962.0         1.0\n",
       "3760  8403.983160  175134.062500   8963.0         1.0\n",
       "\n",
       "[3761 rows x 4 columns]"
      ]
     },
     "execution_count": 9,
     "metadata": {},
     "output_type": "execute_result"
    }
   ],
   "source": [
    "new_data_df"
   ]
  },
  {
   "cell_type": "code",
   "execution_count": null,
   "metadata": {},
   "outputs": [
    {
     "name": "stderr",
     "output_type": "stream",
     "text": [
      "\n",
      "[notice] A new release of pip is available: 24.3.1 -> 25.0.1\n",
      "[notice] To update, run: python.exe -m pip install --upgrade pip\n"
     ]
    },
    {
     "name": "stdout",
     "output_type": "stream",
     "text": [
      "Requirement already satisfied: scipy in c:\\users\\triton neurotech\\appdata\\local\\programs\\python\\python313\\lib\\site-packages (1.15.1)\n",
      "Requirement already satisfied: numpy<2.5,>=1.23.5 in c:\\users\\triton neurotech\\appdata\\local\\programs\\python\\python313\\lib\\site-packages (from scipy) (2.2.1)\n",
      "Note: you may need to restart the kernel to use updated packages.\n"
     ]
    }
   ],
   "source": [
    "%pip install scipy\n",
    "from scipy import signal"
   ]
  },
  {
   "cell_type": "code",
   "execution_count": null,
   "metadata": {},
   "outputs": [
    {
     "name": "stdout",
     "output_type": "stream",
     "text": [
      "Requirement already satisfied: matplotlib in c:\\users\\triton neurotech\\appdata\\local\\programs\\python\\python313\\lib\\site-packages (3.10.0)\n",
      "Requirement already satisfied: contourpy>=1.0.1 in c:\\users\\triton neurotech\\appdata\\local\\programs\\python\\python313\\lib\\site-packages (from matplotlib) (1.3.1)\n",
      "Requirement already satisfied: cycler>=0.10 in c:\\users\\triton neurotech\\appdata\\local\\programs\\python\\python313\\lib\\site-packages (from matplotlib) (0.12.1)\n",
      "Requirement already satisfied: fonttools>=4.22.0 in c:\\users\\triton neurotech\\appdata\\local\\programs\\python\\python313\\lib\\site-packages (from matplotlib) (4.56.0)\n",
      "Requirement already satisfied: kiwisolver>=1.3.1 in c:\\users\\triton neurotech\\appdata\\local\\programs\\python\\python313\\lib\\site-packages (from matplotlib) (1.4.8)\n",
      "Requirement already satisfied: numpy>=1.23 in c:\\users\\triton neurotech\\appdata\\local\\programs\\python\\python313\\lib\\site-packages (from matplotlib) (2.2.1)\n",
      "Requirement already satisfied: packaging>=20.0 in c:\\users\\triton neurotech\\appdata\\roaming\\python\\python313\\site-packages (from matplotlib) (24.2)\n",
      "Requirement already satisfied: pillow>=8 in c:\\users\\triton neurotech\\appdata\\local\\programs\\python\\python313\\lib\\site-packages (from matplotlib) (11.1.0)\n",
      "Requirement already satisfied: pyparsing>=2.3.1 in c:\\users\\triton neurotech\\appdata\\local\\programs\\python\\python313\\lib\\site-packages (from matplotlib) (3.2.1)\n",
      "Requirement already satisfied: python-dateutil>=2.7 in c:\\users\\triton neurotech\\appdata\\roaming\\python\\python313\\site-packages (from matplotlib) (2.9.0.post0)\n",
      "Requirement already satisfied: six>=1.5 in c:\\users\\triton neurotech\\appdata\\roaming\\python\\python313\\site-packages (from python-dateutil>=2.7->matplotlib) (1.17.0)\n",
      "Note: you may need to restart the kernel to use updated packages.\n"
     ]
    },
    {
     "name": "stderr",
     "output_type": "stream",
     "text": [
      "\n",
      "[notice] A new release of pip is available: 24.3.1 -> 25.0.1\n",
      "[notice] To update, run: python.exe -m pip install --upgrade pip\n"
     ]
    }
   ],
   "source": [
    "%pip install matplotlib\n",
    "import matplotlib.pyplot as plt"
   ]
  },
  {
   "cell_type": "code",
   "execution_count": null,
   "metadata": {},
   "outputs": [],
   "source": [
    "import numpy as np"
   ]
  },
  {
   "cell_type": "code",
   "execution_count": null,
   "metadata": {},
   "outputs": [],
   "source": [
    "fs = 250\n",
    "order = 4\n",
    "low_cutoff = 10\n",
    "high_cutoff = 30"
   ]
  },
  {
   "cell_type": "code",
   "execution_count": null,
   "metadata": {},
   "outputs": [],
   "source": [
    "b, a = signal.butter(order, [low_cutoff / (0.5 * fs), high_cutoff / (0.5 * fs)], btype='bandpass')"
   ]
  },
  {
   "cell_type": "code",
   "execution_count": null,
   "metadata": {},
   "outputs": [],
   "source": [
    "filtered_signal = signal.filtfilt(b, a, new_data_df['OZ'])"
   ]
  },
  {
   "cell_type": "code",
   "execution_count": null,
   "metadata": {},
   "outputs": [],
   "source": [
    "f, psd = signal.welch(filtered_signal, fs=250, nperseg=500)"
   ]
  },
  {
   "cell_type": "code",
   "execution_count": null,
   "metadata": {},
   "outputs": [
    {
     "data": {
      "text/plain": [
       "(1.0, 20.0)"
      ]
     },
     "execution_count": 16,
     "metadata": {},
     "output_type": "execute_result"
    },
    {
     "data": {
      "image/png": "[encoded data removed]",
      "text/plain": [
       "<Figure size 640x480 with 1 Axes>"
      ]
     },
     "metadata": {},
     "output_type": "display_data"
    }
   ],
   "source": [
    "plt.plot(f, psd)\n",
    "plt.xlim(11,20)"
   ]
  },
  {
   "cell_type": "code",
   "execution_count": null,
   "metadata": {},
   "outputs": [
    {
     "data": {
      "text/plain": [
       "[<matplotlib.lines.Line2D at 0x2c516be2210>]"
      ]
     },
     "execution_count": 18,
     "metadata": {},
     "output_type": "execute_result"
    },
    {
     "data": {
      "image/png": "[encoded data removed]",
      "text/plain": [
       "<Figure size 640x480 with 1 Axes>"
      ]
     },
     "metadata": {},
     "output_type": "display_data"
    }
   ],
   "source": [
    "t=np.linspace(0,15,3746)\n",
    "eeg = filtered_signal\n",
    "plt.plot(t, eeg)"
   ]
  },
  {
   "cell_type": "code",
   "execution_count": null,
   "metadata": {},
   "outputs": [],
   "source": []
  }
 ],
 "metadata": {
  "kernelspec": {
   "display_name": "Python 3",
   "language": "python",
   "name": "python3"
  },
  "language_info": {
   "codemirror_mode": {
    "name": "ipython",
    "version": 3
   },
   "file_extension": ".py",
   "mimetype": "text/x-python",
   "name": "python",
   "nbconvert_exporter": "python",
   "pygments_lexer": "ipython3",
   "version": "3.13.1"
  }
 },
 "nbformat": 4,
 "nbformat_minor": 2
}
